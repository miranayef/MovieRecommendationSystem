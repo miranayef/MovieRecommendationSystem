{
 "cells": [
  {
   "cell_type": "code",
   "execution_count": 1,
   "id": "6d592b70",
   "metadata": {},
   "outputs": [],
   "source": [
    "import numpy as np\n",
    "import pandas as pd\n",
    "pd.options.mode.chained_assignment = None  # default='warn'\n",
    "import ast\n",
    "from sklearn.feature_extraction.text import CountVectorizer\n",
    "from sklearn.metrics.pairwise import cosine_similarity\n",
    "import pickle\n",
    "from nltk.stem import PorterStemmer"
   ]
  },
  {
   "cell_type": "markdown",
   "id": "f3a6e6dd",
   "metadata": {},
   "source": [
    "# Demographic Filtering"
   ]
  },
  {
   "cell_type": "markdown",
   "id": "c0573a78",
   "metadata": {},
   "source": [
    "Load data"
   ]
  },
  {
   "cell_type": "code",
   "execution_count": 2,
   "id": "90d01838",
   "metadata": {},
   "outputs": [],
   "source": [
    "movies = pd.read_csv('data/tmdb_5000_movies.csv')\n",
    "credits = pd.read_csv('data/tmdb_5000_credits.csv')"
   ]
  },
  {
   "cell_type": "markdown",
   "id": "8f19b31d",
   "metadata": {},
   "source": [
    "Merge dataframes"
   ]
  },
  {
   "cell_type": "code",
   "execution_count": 3,
   "id": "15134f0a",
   "metadata": {},
   "outputs": [],
   "source": [
    "movies = movies.merge(credits, on='title')"
   ]
  },
  {
   "cell_type": "markdown",
   "id": "5dcd2e6e",
   "metadata": {},
   "source": [
    "Keep necessary columns"
   ]
  },
  {
   "cell_type": "code",
   "execution_count": 4,
   "id": "8b61226a",
   "metadata": {},
   "outputs": [],
   "source": [
    "movies_demographic = movies[['movie_id', 'title', 'vote_average', 'vote_count', 'genres']]"
   ]
  },
  {
   "cell_type": "markdown",
   "id": "50215e79",
   "metadata": {},
   "source": [
    "Handle missing values"
   ]
  },
  {
   "cell_type": "code",
   "execution_count": 5,
   "id": "2d8cd169",
   "metadata": {},
   "outputs": [],
   "source": [
    "movies_demographic.dropna(subset=['vote_average', 'vote_count'], inplace=True)"
   ]
  },
  {
   "cell_type": "markdown",
   "id": "1208d9a2",
   "metadata": {},
   "source": [
    "Calculate C and m for demographic filtering"
   ]
  },
  {
   "cell_type": "code",
   "execution_count": 6,
   "id": "5bb4d310",
   "metadata": {},
   "outputs": [],
   "source": [
    "C_demographic = movies_demographic['vote_average'].mean()\n",
    "m_demographic = movies_demographic['vote_count'].quantile(0.9)"
   ]
  },
  {
   "cell_type": "markdown",
   "id": "eea0bb61",
   "metadata": {},
   "source": [
    "Filter movies"
   ]
  },
  {
   "cell_type": "code",
   "execution_count": 7,
   "id": "3e820a7f",
   "metadata": {},
   "outputs": [],
   "source": [
    "q_movies_demographic = movies_demographic.copy().loc[movies_demographic['vote_count'] >= m_demographic]"
   ]
  },
  {
   "cell_type": "markdown",
   "id": "a6a72088",
   "metadata": {},
   "source": [
    "Define weighted rating function for demographic filtering"
   ]
  },
  {
   "cell_type": "code",
   "execution_count": 8,
   "id": "3f62349d",
   "metadata": {},
   "outputs": [],
   "source": [
    "def weighted_rating_demographic(x, m=m_demographic, C=C_demographic):\n",
    "    v = x['vote_count']\n",
    "    R = x['vote_average']\n",
    "    return (v / (v + m) * R) + (m / (m + v) * C)"
   ]
  },
  {
   "cell_type": "markdown",
   "id": "a21e5c75",
   "metadata": {},
   "source": [
    "Calculate score for demographic filtering"
   ]
  },
  {
   "cell_type": "code",
   "execution_count": 9,
   "id": "0be805ce",
   "metadata": {},
   "outputs": [],
   "source": [
    "q_movies_demographic['score'] = q_movies_demographic.apply(weighted_rating_demographic, axis=1)"
   ]
  },
  {
   "cell_type": "markdown",
   "id": "6fc1dc6f",
   "metadata": {},
   "source": [
    "Sort movies based on score for demographic filtering"
   ]
  },
  {
   "cell_type": "code",
   "execution_count": 10,
   "id": "5fa8a2a0",
   "metadata": {},
   "outputs": [],
   "source": [
    "q_movies_demographic = q_movies_demographic.sort_values('score', ascending=False)"
   ]
  },
  {
   "cell_type": "markdown",
   "id": "4c9490e7",
   "metadata": {},
   "source": [
    "Save demographic filtering results"
   ]
  },
  {
   "cell_type": "code",
   "execution_count": 11,
   "id": "e2ef1a63",
   "metadata": {},
   "outputs": [],
   "source": [
    "pickle.dump(q_movies_demographic, open('artifacts/movie_demographic.pkl', 'wb'))"
   ]
  },
  {
   "cell_type": "markdown",
   "id": "9490a0e0",
   "metadata": {},
   "source": [
    "# Content-based filtering"
   ]
  },
  {
   "cell_type": "markdown",
   "id": "b999d777",
   "metadata": {},
   "source": [
    "Keep important columns"
   ]
  },
  {
   "cell_type": "code",
   "execution_count": 12,
   "id": "f45c1065",
   "metadata": {},
   "outputs": [],
   "source": [
    "movies_content = movies[['movie_id', 'title', 'overview', 'genres', 'keywords', 'cast', 'crew', 'vote_average', 'vote_count']]"
   ]
  },
  {
   "cell_type": "markdown",
   "id": "0ac63bdb",
   "metadata": {},
   "source": [
    "Handle missing values"
   ]
  },
  {
   "cell_type": "code",
   "execution_count": 13,
   "id": "86420b26",
   "metadata": {},
   "outputs": [],
   "source": [
    "movies_content.dropna(inplace=True)"
   ]
  },
  {
   "cell_type": "markdown",
   "id": "5e3936f2",
   "metadata": {},
   "source": [
    "Convert string representations to lists"
   ]
  },
  {
   "cell_type": "code",
   "execution_count": 14,
   "id": "a2d2a95b",
   "metadata": {},
   "outputs": [],
   "source": [
    "def convert(text):\n",
    "    return [item['name'] for item in ast.literal_eval(text)]"
   ]
  },
  {
   "cell_type": "markdown",
   "id": "0e02d2e3",
   "metadata": {},
   "source": [
    "Handle missing values"
   ]
  },
  {
   "cell_type": "code",
   "execution_count": 15,
   "id": "544a34bb",
   "metadata": {},
   "outputs": [],
   "source": [
    "movies_content.dropna(inplace=True)"
   ]
  },
  {
   "cell_type": "markdown",
   "id": "4af67569",
   "metadata": {},
   "source": [
    "Convert string representations to lists"
   ]
  },
  {
   "cell_type": "code",
   "execution_count": 16,
   "id": "92e18e01",
   "metadata": {},
   "outputs": [],
   "source": [
    "def convert(text):\n",
    "    return [item['name'] for item in ast.literal_eval(text)]"
   ]
  },
  {
   "cell_type": "code",
   "execution_count": 17,
   "id": "eae3831e",
   "metadata": {},
   "outputs": [],
   "source": [
    "movies_content['genres'] = movies_content['genres'].apply(convert)\n",
    "movies_content['keywords'] = movies_content['keywords'].apply(convert)"
   ]
  },
  {
   "cell_type": "code",
   "execution_count": 18,
   "id": "0e0bef56",
   "metadata": {},
   "outputs": [],
   "source": [
    "def convert_cast(text):\n",
    "    return [item['name'] for i, item in enumerate(ast.literal_eval(text)) if i < 3]"
   ]
  },
  {
   "cell_type": "code",
   "execution_count": 19,
   "id": "ba0ee958",
   "metadata": {},
   "outputs": [],
   "source": [
    "movies_content['cast'] = movies_content['cast'].apply(convert_cast)"
   ]
  },
  {
   "cell_type": "code",
   "execution_count": 20,
   "id": "30a7d1d1",
   "metadata": {},
   "outputs": [],
   "source": [
    "def fetch_director(text):\n",
    "    return [item['name'] for item in ast.literal_eval(text) if item['job'] == 'Director']"
   ]
  },
  {
   "cell_type": "code",
   "execution_count": 21,
   "id": "d6255d60",
   "metadata": {},
   "outputs": [],
   "source": [
    "movies_content['crew'] = movies_content['crew'].apply(fetch_director)"
   ]
  },
  {
   "cell_type": "markdown",
   "id": "52df5430",
   "metadata": {},
   "source": [
    "Process overview"
   ]
  },
  {
   "cell_type": "code",
   "execution_count": 22,
   "id": "0629f27a",
   "metadata": {},
   "outputs": [],
   "source": [
    "movies_content['overview'] = movies_content['overview'].apply(lambda x: x.split())"
   ]
  },
  {
   "cell_type": "markdown",
   "id": "e468cc2e",
   "metadata": {},
   "source": [
    "Remove spaces in names"
   ]
  },
  {
   "cell_type": "code",
   "execution_count": 23,
   "id": "3502125e",
   "metadata": {},
   "outputs": [],
   "source": [
    "def remove_space(L):\n",
    "    return [i.replace(\" \", \"\") for i in L]\n",
    "\n",
    "movies_content['cast'] = movies_content['cast'].apply(remove_space)\n",
    "movies_content['crew'] = movies_content['crew'].apply(remove_space)\n",
    "movies_content['genres'] = movies_content['genres'].apply(remove_space)\n",
    "movies_content['keywords'] = movies_content['keywords'].apply(remove_space)"
   ]
  },
  {
   "cell_type": "markdown",
   "id": "eaf4bc1f",
   "metadata": {},
   "source": [
    "Concatenate all features into 'tags'"
   ]
  },
  {
   "cell_type": "code",
   "execution_count": 24,
   "id": "6aed16d3",
   "metadata": {},
   "outputs": [],
   "source": [
    "movies_content['tags'] = movies_content['overview'] + movies_content['genres'] + movies_content['keywords'] + movies_content['cast'] + movies_content['crew']"
   ]
  },
  {
   "cell_type": "markdown",
   "id": "3703f1fa",
   "metadata": {},
   "source": [
    "Drop unnecessary columns"
   ]
  },
  {
   "cell_type": "code",
   "execution_count": 25,
   "id": "469ad0de",
   "metadata": {},
   "outputs": [],
   "source": [
    "new_df_content = movies_content[['movie_id', 'title', 'tags']]"
   ]
  },
  {
   "cell_type": "markdown",
   "id": "bffce889",
   "metadata": {},
   "source": [
    "Convert list to string"
   ]
  },
  {
   "cell_type": "code",
   "execution_count": 26,
   "id": "9487bd5a",
   "metadata": {},
   "outputs": [],
   "source": [
    "new_df_content['tags'] = new_df_content['tags'].apply(lambda x: \" \".join(x))"
   ]
  },
  {
   "cell_type": "markdown",
   "id": "7b820df5",
   "metadata": {},
   "source": [
    "Convert to lowercase"
   ]
  },
  {
   "cell_type": "code",
   "execution_count": 27,
   "id": "29961266",
   "metadata": {},
   "outputs": [],
   "source": [
    "new_df_content['tags'] = new_df_content['tags'].str.lower()"
   ]
  },
  {
   "cell_type": "markdown",
   "id": "48a886b2",
   "metadata": {},
   "source": [
    "Stemming"
   ]
  },
  {
   "cell_type": "code",
   "execution_count": 28,
   "id": "c42f864a",
   "metadata": {},
   "outputs": [],
   "source": [
    "ps = PorterStemmer()\n",
    "new_df_content['tags'] = new_df_content['tags'].apply(lambda x: \" \".join([ps.stem(word) for word in x.split()]))"
   ]
  },
  {
   "cell_type": "markdown",
   "id": "1837c00a",
   "metadata": {},
   "source": [
    "Text Vectorization"
   ]
  },
  {
   "cell_type": "code",
   "execution_count": 29,
   "id": "935dcc3b",
   "metadata": {},
   "outputs": [],
   "source": [
    "cv = CountVectorizer(max_features=5000, stop_words='english')\n",
    "vector_content = cv.fit_transform(new_df_content['tags']).toarray()"
   ]
  },
  {
   "cell_type": "markdown",
   "id": "3661e694",
   "metadata": {},
   "source": [
    "Cosine Similarity"
   ]
  },
  {
   "cell_type": "code",
   "execution_count": 30,
   "id": "de30499b",
   "metadata": {},
   "outputs": [],
   "source": [
    "similarity_content = cosine_similarity(vector_content)"
   ]
  },
  {
   "cell_type": "markdown",
   "id": "1c5fbcc4",
   "metadata": {},
   "source": [
    "Save processed data and similarity matrix for content-based filtering"
   ]
  },
  {
   "cell_type": "code",
   "execution_count": 31,
   "id": "74dc5a55",
   "metadata": {},
   "outputs": [],
   "source": [
    "pickle.dump(new_df_content, open('artifacts/movie_list_content.pkl', 'wb'))\n",
    "pickle.dump(similarity_content, open('artifacts/similarity_content.pkl', 'wb'))"
   ]
  }
 ],
 "metadata": {
  "kernelspec": {
   "display_name": "Python 3 (ipykernel)",
   "language": "python",
   "name": "python3"
  },
  "language_info": {
   "codemirror_mode": {
    "name": "ipython",
    "version": 3
   },
   "file_extension": ".py",
   "mimetype": "text/x-python",
   "name": "python",
   "nbconvert_exporter": "python",
   "pygments_lexer": "ipython3",
   "version": "3.9.12"
  }
 },
 "nbformat": 4,
 "nbformat_minor": 5
}
